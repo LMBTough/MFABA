{
 "cells": [
  {
   "cell_type": "code",
   "execution_count": null,
   "metadata": {},
   "outputs": [],
   "source": [
    "import numpy as np\n",
    "from methods.utils import VisionSensitivityN\n",
    "import matplotlib.font_manager as fm\n",
    "import matplotlib.pyplot as plt\n",
    "from tqdm.notebook import tqdm\n",
    "from visualization import HeatmapVisualizer, visualize_original, visualize, visualize_softmax\n",
    "from torchvision.models import efficientnet_b0\n",
    "import torch.nn as nn\n",
    "import torch\n",
    "from datasets import load_test_dataset, get_dataset\n",
    "from methods import big_pipeline, ig_pipeline\n",
    "from methods import sm_pipeline, ma2norm_b4_softmax_pipeline, ma2norm_after_softmax_pipeline, ma2cos_sign_b4_softmax_pipeline, ma2cos_sign_after_softmax_pipeline, ma2cos_without_sign_b4_softmax_pipeline, ma2cos_without_sign_after_softmax_pipeline, ma2ba_sign_b4_softmax_pipeline, ma2ba_sign_after_softmax_pipeline, ma2ba_without_sign_b4_softmax_pipeline, ma2ba_without_sign_after_softmax_pipeline, dl_pipeline\n",
    "my_font = fm.FontProperties(fname=\"fonts/SimHei.ttf\")\n",
    "mask_viz = HeatmapVisualizer(blur=7, normalization_type=\"signed_max\")\n",
    "device = \"cuda\" if torch.cuda.is_available() else \"cpu\"\n",
    "def set_seed(seed):\n",
    "    torch.manual_seed(seed)\n",
    "    torch.cuda.manual_seed_all(seed)\n",
    "    np.random.seed(seed)\n",
    "    torch.backends.cudnn.deterministic = True\n",
    "    torch.backends.cudnn.benchmark = False\n",
    "set_seed(3407)"
   ]
  },
  {
   "cell_type": "code",
   "execution_count": null,
   "metadata": {},
   "outputs": [],
   "source": [
    "dataloader, data_min, data_max = get_dataset(\"imagenet\", 32)\n"
   ]
  },
  {
   "cell_type": "code",
   "execution_count": null,
   "metadata": {},
   "outputs": [],
   "source": [
    "model = efficientnet_b0(pretrained=True)\n",
    "model.to(device)\n",
    "model.eval()\n",
    "1\n"
   ]
  },
  {
   "cell_type": "code",
   "execution_count": null,
   "metadata": {},
   "outputs": [],
   "source": [
    "vision_sensitivity = VisionSensitivityN(\n",
    "    model, (224, 224), 112*112, num_masks=100)\n"
   ]
  },
  {
   "cell_type": "code",
   "execution_count": null,
   "metadata": {},
   "outputs": [],
   "source": [
    "from tqdm.notebook import tqdm\n",
    "# result = 0\n",
    "count = 0\n",
    "attribution_map_ma2ba_without_sign_after_softmax = {\n",
    "    \"attribution\": [],\n",
    "    \"data\": [],\n",
    "    \"label\": [],\n",
    "}\n",
    "pbar = tqdm(total=200)\n",
    "# all_tt = 0\n",
    "for data, target in tqdm(dataloader,total=len(dataloader)):\n",
    "    data = data.to(device)\n",
    "    target = target.to(device)\n",
    "    correct_index = torch.argmax(model(data), dim=-1) == target\n",
    "    data = data[correct_index]\n",
    "    target = target[correct_index]\n",
    "    if len(data) == 0:\n",
    "        continue\n",
    "    attr_ma2ba_without_sign_after_softmax,_ = ma2ba_without_sign_after_softmax_pipeline(model, data, target,data_min,data_max)\n",
    "    # all_tt += tt\n",
    "    # print(len(data))\n",
    "    for i in range(len(data)):\n",
    "        attribution_map_ma2ba_without_sign_after_softmax[\"attribution\"].append(attr_ma2ba_without_sign_after_softmax[i])\n",
    "        attribution_map_ma2ba_without_sign_after_softmax[\"data\"].append(data[i].cpu().detach().numpy())\n",
    "        attribution_map_ma2ba_without_sign_after_softmax[\"label\"].append(target[i].cpu().detach().numpy())\n",
    "        count += 1\n",
    "        pbar.update(1)\n",
    "        if count == 200:\n",
    "            break\n",
    "    if count == 200:\n",
    "        break\n"
   ]
  },
  {
   "cell_type": "code",
   "execution_count": null,
   "metadata": {},
   "outputs": [],
   "source": [
    "import pickle\n",
    "with open(\"attribution_map_ma2ba_without_sign_after_softmax.pkl\",\"wb\") as f:\n",
    "    pickle.dump(attribution_map_ma2ba_without_sign_after_softmax,f)"
   ]
  },
  {
   "cell_type": "code",
   "execution_count": null,
   "metadata": {},
   "outputs": [],
   "source": [
    "import pickle\n",
    "with open(\"attribution_map_ma2ba_without_sign_after_softmax.pkl\",\"rb\") as f:\n",
    "    attribution_map_ma2ba_without_sign_after_softmax = pickle.load(f)"
   ]
  },
  {
   "cell_type": "code",
   "execution_count": null,
   "metadata": {},
   "outputs": [],
   "source": [
    "def get_sensitivity(attribution_map, idx):\n",
    "    i = idx\n",
    "    attribution = attribution_map[\"attribution\"][i]\n",
    "    data = attribution_map[\"data\"][i]\n",
    "    label = attribution_map[\"label\"][i]\n",
    "    attribution = np.array(attribution)\n",
    "    data = np.array(data)\n",
    "    if len(attribution.shape) == 3:\n",
    "        attribution = attribution[np.newaxis, ...]\n",
    "    if len(data.shape) == 3:\n",
    "        data = data[np.newaxis, ...]\n",
    "    im_, mask = mask_viz(attribution, data, overlay_opacity=0.5,\n",
    "                         imshow=False, return_tiled=True)\n",
    "    # normalize mask\n",
    "    mask = (mask - mask.min()) / (mask.max() - mask.min()+1e-10)\n",
    "    # plt.figure(figsize=(10, 10))\n",
    "    # plt.imshow(im_)\n",
    "    # plt.imshow(mask, alpha=0.5, cmap=\"jet\")\n",
    "    # plt.show()\n",
    "    sen = (vision_sensitivity.evaluate(heatmap=torch.from_numpy(mask).to(device), input_tensor=torch.from_numpy(\n",
    "        data.squeeze()).to(device), target=torch.from_numpy(np.array(label)).to(device), calculate_corr=True))\n",
    "    if np.isnan(sen['correlation'][1, 0]):\n",
    "        sen = 0\n",
    "    else:\n",
    "        sen = sen['correlation'][1, 0]\n",
    "    return sen\n"
   ]
  },
  {
   "cell_type": "code",
   "execution_count": null,
   "metadata": {},
   "outputs": [],
   "source": [
    "sum([get_sensitivity(attribution_map_ma2ba_without_sign_after_softmax, i)\n",
    "    for i in range(200)])/200"
   ]
  }
 ],
 "metadata": {
  "kernelspec": {
   "display_name": "Python 3 (ipykernel)",
   "language": "python",
   "name": "python3"
  },
  "language_info": {
   "codemirror_mode": {
    "name": "ipython",
    "version": 3
   },
   "file_extension": ".py",
   "mimetype": "text/x-python",
   "name": "python",
   "nbconvert_exporter": "python",
   "pygments_lexer": "ipython3",
   "version": "3.8.10"
  }
 },
 "nbformat": 4,
 "nbformat_minor": 4
}
